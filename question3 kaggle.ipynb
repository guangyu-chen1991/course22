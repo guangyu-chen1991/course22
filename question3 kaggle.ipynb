{
 "cells": [
  {
   "cell_type": "code",
   "execution_count": 1,
   "metadata": {},
   "outputs": [],
   "source": [
    "import numpy as np \n",
    "import torch\n",
    "import torch.nn as nn\n",
    "import torch.nn.functional as F\n",
    "from torch.utils.data import DataLoader, random_split\n",
    "import torchvision.transforms as T\n",
    "\n",
    "\n",
    "import random\n",
    "import pandas as pd\n",
    "\n",
    "import matplotlib.pyplot as plt\n",
    "import seaborn as sns\n",
    "import plotly.express as px\n",
    "\n",
    "\n",
    "import time \n",
    "from PIL import Image\n",
    "import glob\n",
    "\n",
    "from sklearn.metrics import confusion_matrix, recall_score, precision_score, f1_score, accuracy_score, classification_report\n",
    "\n",
    "import warnings\n",
    "warnings.filterwarnings('ignore')\n",
    "\n",
    "torch.manual_seed(0)\n",
    "random.seed(0)\n",
    "np.random.seed(0)"
   ]
  },
  {
   "cell_type": "code",
   "execution_count": 2,
   "metadata": {},
   "outputs": [],
   "source": [
    "class Dataset:\n",
    "    def __init__(self,x,y):\n",
    "        self.data = x\n",
    "        self.targets = y.astype('int64')\n",
    "\n",
    "    def __len__(self):\n",
    "        return len(self.targets)\n",
    "\n",
    "    def __getitem__(self, index):\n",
    "        x = self.data[index]\n",
    "        transform = T.Compose([ T.ToTensor() ])\n",
    "        return transform(x)  ,  self.targets[index]"
   ]
  },
  {
   "cell_type": "code",
   "execution_count": 3,
   "metadata": {},
   "outputs": [
    {
     "ename": "SyntaxError",
     "evalue": "incomplete input (3935260719.py, line 23)",
     "output_type": "error",
     "traceback": [
      "\u001b[0;36m  Cell \u001b[0;32mIn[3], line 23\u001b[0;36m\u001b[0m\n\u001b[0;31m    print(\"=> {} has been load in training set\".format(len(y))\u001b[0m\n\u001b[0m                                                              ^\u001b[0m\n\u001b[0;31mSyntaxError\u001b[0m\u001b[0;31m:\u001b[0m incomplete input\n"
     ]
    }
   ],
   "source": [
    "# 数据集的子目录名称\n",
    "classes = [\"REAL\",\"FAKE\"]\n",
    "x, y = [],[]\n",
    "# 定义REAL为标签0，FAKE为标签1\n",
    "class_dict = {'REAL':0, 'FAKE':1}\n",
    "\n",
    "# 读取图片\n",
    "for c in classes:\n",
    "    # 遍历目录进行读取\n",
    "    paths = glob.glob('./archive/train/'+c+'/*')\n",
    "    for p in paths:\n",
    "        # 使用PIL的Image模块进行读取\n",
    "        img = Image.open(p)\n",
    "        # 将PIL图像转换为numpy array\n",
    "        imgarray = np.asarray(img)\n",
    "        # 把numpy array格式的图像，以及标签添加到x和y\n",
    "        x.append(imgarray)\n",
    "        y.append(class_dict[c]) \n",
    "\n",
    "# 转化为numpy array形式，用于构建dataset\n",
    "x , y = np.array(x), np.array(y)\n",
    "\n",
    "print(\"=> {} has been load in training set\".format(len(y))"
   ]
  }
 ],
 "metadata": {
  "kernelspec": {
   "display_name": "Python 3",
   "language": "python",
   "name": "python3"
  },
  "language_info": {
   "codemirror_mode": {
    "name": "ipython",
    "version": 3
   },
   "file_extension": ".py",
   "mimetype": "text/x-python",
   "name": "python",
   "nbconvert_exporter": "python",
   "pygments_lexer": "ipython3",
   "version": "3.10.11"
  },
  "orig_nbformat": 4
 },
 "nbformat": 4,
 "nbformat_minor": 2
}
